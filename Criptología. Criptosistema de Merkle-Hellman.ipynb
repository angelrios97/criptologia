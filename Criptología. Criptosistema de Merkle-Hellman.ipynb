{
 "cells": [
  {
   "cell_type": "markdown",
   "metadata": {},
   "source": [
    "# Criptología\n",
    "## Criptosistema de Merkle-Hellman.\n",
    "### Ángel Ríos San Nicolás\n",
    "\n",
    "Implementamos una versión del criptosistema de Merkle-Hellman, que es un método basado en el problema de la mochila. El criptosistema funciona como sigue:\n",
    "\n",
    "Consideramos un $n\\in\\mathbb{N}$ y una sucesión supercreciente $(b_1,\\ldots,b_n)\\in\\mathbb{N}^n$, es decir, tal que para todo $i\\in\\{1,\\ldots, n\\}$ se cumple\n",
    "$$b_i = \\sum_{k=1}^{i-1}b_k.$$\n",
    "\n",
    "Tomamos $U,V\\in\\mathbb{N}$ de manera aleatoria tales que son coprimos y $U>\\sum_{k=1}^n b_k$ y también $U>V$. \n",
    "\n",
    "Definimos $(a_1,\\ldots,a_n)\\in\\mathbb{N}^n$ dado por $$a_i = b_iV\\mod U$$ para todo $k\\in\\{1,\\ldots, n\\}$.\n",
    "\n",
    "La clave pública es $(a_1,\\ldots, a_n)$ y la clave privada es $((b_1,\\ldots, b_n), U, V)$.\n",
    "\n",
    "Vamos a implementar una manera de generar pseudoaleatoriamente las claves a partir de un $n$ fijo. En particular, tenemos que diseñar una manera de generar sucesiones supercrecientes de manera pseudoaleatoria para lo que hay diversas maneras de hacerlo de entre las que proponemos una."
   ]
  },
  {
   "cell_type": "code",
   "execution_count": 1,
   "metadata": {},
   "outputs": [],
   "source": [
    "# Generación de las claves pública y privada.\n",
    "def claves(n):\n",
    "    BS = [randint(2,2*n)]  # Guardará la sucesión supercreciente de la clave privada.\n",
    "    for _ in range(n):\n",
    "        s = sum(BS)  # Suma de los anteriores.\n",
    "        c = floor(mean(BS)/2)  # Parámetro para acotar la generación de pseudoaleatorios.\n",
    "        # c = max(BS)  # Alternativa.\n",
    "        BS.append(s + randint(1,c))  # Añadimos un positivo pseudoaleatorio y acotado.\n",
    "    sumBS = sum(BS)\n",
    "    V = randint(sumBS, 2 * sumBS + c)  # Tomamos V > sumBS pseudoaleatorio y acotado.\n",
    "    GCD = 0\n",
    "    iters = 0\n",
    "    while GCD != 1 or iters == 10000:\n",
    "        U = randint(V, 2 * V)\n",
    "        GCD = gcd(U,V)\n",
    "        iters += 1\n",
    "    if iters == 10000:  # Con probabilidad prácticamente nula.\n",
    "        U = V+1  # gcd(V, V+1) = 1\n",
    "    AS = [(BS[i] * V) % U for i in range(len(BS))]  # Construimos la clave pública a=bV mod U.\n",
    "    return AS, BS, U, V\n",
    "[AS, BS, U, V] = claves(1000)"
   ]
  },
  {
   "cell_type": "markdown",
   "metadata": {},
   "source": [
    "Notamos que hay decisiones arbitarias. El parámetro $c$ que se utiliza para acotar los números pseudoaleatorios que generamos se podría haber tomado fijo para todas las iteraciones, generado a su vez pseudoaleatoriamente de alguna manera o dependiente de la sucesión supercreciente que se va generando pero con distinta definición.  Podríamos tomar cotas más altas, por ejemplo, $c=\\max(BS)$ y los cálculos siguen siendo muy rápidos. Podemos hacer las mismas observaciones sobre la elección de cotas en las definiciones de $V$ y $U$. Otra observación es que la condición de parada en iteraciones se da con probabilidad prácticamente nula, la añadimos solo para que sea un algoritmo y en ese caso tomamos $U=V+1$ que es coprimo con $V$.\n",
    "\n",
    "Implementamos el cifrado que dado un mensaje $0\\leq m\\leq 2^n$ considera la representación binaria $m=[m_1,\\ldots m_n]$, es decir, \n",
    "$m = \\sum_{i=1}^nm_i2^{i-1}$ y\n",
    "para la que el cifrado es $$y=\\sum_{i=1}^n m_ia_i$$ siendo $(a_1,\\ldots, a_n)$ la clave pública."
   ]
  },
  {
   "cell_type": "code",
   "execution_count": 2,
   "metadata": {},
   "outputs": [],
   "source": [
    "# CIFRADO\n",
    "def cifra(mensaje, AS):\n",
    "    c = bin(mensaje)[2:]  # Representación binaria de c.\n",
    "    c = \"0\" * (len(AS) - len(c)) + c # Completamos la representación binaria con ceros a izda.\n",
    "    a = []\n",
    "    for _ in c:\n",
    "        a.append(int(_))\n",
    "    return sum([AS[_] * a[_] for _ in range(len(AS))])"
   ]
  },
  {
   "cell_type": "markdown",
   "metadata": {},
   "source": [
    "Veamos un ejemplo de cifrado para un mensaje pseudoaleatorio $0\\leq m < 2^{1000}$."
   ]
  },
  {
   "cell_type": "code",
   "execution_count": 3,
   "metadata": {},
   "outputs": [
    {
     "name": "stdout",
     "output_type": "stream",
     "text": [
      "Mensaje:  9510546014108545760587043950280028273724493180558023749004520421695107168130660670585983616775371328858359482534718496733573806815277179270231323250405990520534357334347650757056486631703776087631216350572579657979534918594289654316993022790511455444866646928232548861936667371024131064806478927596664\n",
      "Mensaje cifrado:  17957036692147165165774379466007864789154405296682079012467674830951771959740783243806865587468310697137532550663726831767525908580343900465987821069585625334735523570415273555169202796773001184428043908995511781726995406696072882375851353955779158365625511711308503840163998010005751013869612652833031735452\n"
     ]
    }
   ],
   "source": [
    "mensaje = randint(0,2^1000)\n",
    "y = cifra(mensaje, AS)\n",
    "print(\"Mensaje: \", mensaje)\n",
    "print(\"Mensaje cifrado: \", y)"
   ]
  },
  {
   "cell_type": "markdown",
   "metadata": {},
   "source": [
    "Implementamos el descifrado que dado el mensaje cifrado $y$ y la clave privada $(b_1,\\ldots,b_n)$, si el mensaje descifrado es $m=[m_1,\\ldots, m_n]$ en binario, entonces se puede calcular de forma eficiente $m$ en representación binaria resolviendo el problema de la mochila $S=\\sum_{i=1}^n m_ib_i=yV^{-1}\\mod U$ porque la sucesión $(b_1,\\ldots,b_n)$ es supercreciente. La manera de hacerlo es considerar el $b_i$ más grande, en este caso $b_n$ porque están ordenados y comproban si satura o no la mochila. Tomamos el primer elemento $b_n$, si es $b_n>S$, entonces $m_n=0$. Si no, $m_n=1$. Restando $m_n$ al total, tenemos el problema de la mochila $S-m_n = \\sum_{i=1}^{n-1}m_ib_i$ y repetimos el mismo proceso hasta que los elementos escogidos sumen $S$."
   ]
  },
  {
   "cell_type": "code",
   "execution_count": 4,
   "metadata": {},
   "outputs": [],
   "source": [
    "# DESCIFRADO\n",
    "def creciente_mochila(lista, S):  # Descifra lista a binario con tamaño de mochila S.\n",
    "    n = len(lista)\n",
    "    x = [0 for i in range(n)]  # Guardará el mensaje descifrado.\n",
    "    aux = S\n",
    "    for i in range(n):\n",
    "        if aux >= lista[n-1-i]:\n",
    "            x[n-1-i] = 1\n",
    "            aux = aux - lista[n-1-i]\n",
    "    if aux == 0:\n",
    "        return x\n",
    "    return -1\n",
    "\n",
    "def listbin_a_dec(x):  # Convierte una lista binaria a decimal.\n",
    "    x = [str(_) for _ in x]\n",
    "    cadena = \"\"\n",
    "    for _ in x:\n",
    "        cadena += _\n",
    "    return int(cadena, base = 2)\n",
    "\n",
    "def descifra(y, BS, U, V):  # Descifra el mensaje y a decimal con la clave privada (BS, U, V).\n",
    "    S = (y * power_mod(V, -1, U)) % U  # Tamaño de la mochila.\n",
    "    des = creciente_mochila(BS, S)\n",
    "    return listbin_a_dec(des)"
   ]
  },
  {
   "cell_type": "markdown",
   "metadata": {},
   "source": [
    "Comprobamos que podemos descifrar el mensaje que generamos y ciframos previamente."
   ]
  },
  {
   "cell_type": "code",
   "execution_count": 5,
   "metadata": {},
   "outputs": [
    {
     "name": "stdout",
     "output_type": "stream",
     "text": [
      "Mensaje descifrado:  9510546014108545760587043950280028273724493180558023749004520421695107168130660670585983616775371328858359482534718496733573806815277179270231323250405990520534357334347650757056486631703776087631216350572579657979534918594289654316993022790511455444866646928232548861936667371024131064806478927596664\n",
      "True\n"
     ]
    }
   ],
   "source": [
    "x = descifra(y, BS, U, V)\n",
    "print(\"Mensaje descifrado: \", x)\n",
    "print(mensaje == x)  # Observamos que el mensaje descifrado coincide con el mensaje que ciframos."
   ]
  },
  {
   "cell_type": "markdown",
   "metadata": {},
   "source": [
    "Vamos a dar una versión del criptosistema para cifrar y descifrar texto. Para ello, vemos primero un ejemplo en el que codificamos y decodificamos entre texto y binario. Esto nos servirá para aprovechar el método anterior."
   ]
  },
  {
   "cell_type": "code",
   "execution_count": 6,
   "metadata": {},
   "outputs": [
    {
     "data": {
      "text/plain": [
       "'10001010111001101110100011000010010000001100110011100100110000101110011011001010010000001100101011100110010000001101101011001010110111001110100011010010111001001100001'"
      ]
     },
     "execution_count": 6,
     "metadata": {},
     "output_type": "execute_result"
    }
   ],
   "source": [
    "m = \"Esta frase es mentira\".encode()\n",
    "num = int.from_bytes(m, \"big\")\n",
    "en_binario = bin(num)[2:]\n",
    "en_binario"
   ]
  },
  {
   "cell_type": "code",
   "execution_count": 7,
   "metadata": {},
   "outputs": [
    {
     "data": {
      "text/plain": [
       "'Esta frase es mentira'"
      ]
     },
     "execution_count": 7,
     "metadata": {},
     "output_type": "execute_result"
    }
   ],
   "source": [
    "binnum = int(en_binario, 2)\n",
    "orden = binnum.bit_length() + 7 // 8\n",
    "mensaje = binnum.to_bytes(orden, \"big\").decode()\n",
    "mensaje = mensaje.replace(\"\\x00\",\"\")\n",
    "mensaje"
   ]
  },
  {
   "cell_type": "markdown",
   "metadata": {},
   "source": [
    "Implementamos el método de cifrado exactamente de la misma forma salvo que transformamos el mensaje a decimal previamente para aprovechar el anterior."
   ]
  },
  {
   "cell_type": "code",
   "execution_count": 8,
   "metadata": {},
   "outputs": [],
   "source": [
    "# CIFRADO\n",
    "def cifra_txt(mensaje, AS):\n",
    "    mensaje = mensaje.encode()\n",
    "    num = int.from_bytes(mensaje, \"big\")\n",
    "    en_binario = bin(num)[2:]\n",
    "    y = cifra(int(str(en_binario), base = 2), AS)  # Aprovechamos el cifrado decimal.\n",
    "    return y  # No lo podemos pasar a texto porque en general no codifica ninguno."
   ]
  },
  {
   "cell_type": "markdown",
   "metadata": {},
   "source": [
    "Vamos a ver un ejemplo de cifrado de \"Criptosistema de Merkle-Hellman''."
   ]
  },
  {
   "cell_type": "code",
   "execution_count": 9,
   "metadata": {},
   "outputs": [
    {
     "name": "stdout",
     "output_type": "stream",
     "text": [
      "Mensaje:  Criptosistema de Merkle-Hellman\n",
      "Mensaje cifrado:  4322638271625426403826762043246011935730186072100492394042292427908234117848329613867835082090487000295893440404858382368263575097361004543809407102569003189388320849438057260627946529529113993842236719950717305315230974887123890992906969429762900060651391917268268103699294072930253426887517209477997478854\n"
     ]
    }
   ],
   "source": [
    "mensaje = \"Criptosistema de Merkle-Hellman\"\n",
    "y = cifra_txt(mensaje, AS)\n",
    "print(\"Mensaje: \", mensaje)\n",
    "print(\"Mensaje cifrado: \", y)"
   ]
  },
  {
   "cell_type": "markdown",
   "metadata": {},
   "source": [
    "El descifrado se hace de manera análoga, aprovechamos el descifrado en decimal y transformamos el resultado a una cadena de caracteres."
   ]
  },
  {
   "cell_type": "code",
   "execution_count": 10,
   "metadata": {},
   "outputs": [],
   "source": [
    "# DESCIFRADO\n",
    "def descifra_txt(y, BS, U, V):\n",
    "    x = descifra(y, BS, U, V)  # Aprovechamos el descifrado decimal.\n",
    "    orden = x.bit_length() + 7 // 8\n",
    "    mensaje = x.to_bytes(orden, \"big\").decode()\n",
    "    mensaje = mensaje.replace(\"\\x00\",\"\")\n",
    "    return mensaje"
   ]
  },
  {
   "cell_type": "markdown",
   "metadata": {},
   "source": [
    "Comprobamos que podemos recuperar el mensaje que ciframos previamente."
   ]
  },
  {
   "cell_type": "code",
   "execution_count": 11,
   "metadata": {},
   "outputs": [
    {
     "name": "stdout",
     "output_type": "stream",
     "text": [
      "Mensaje descifrado:  Criptosistema de Merkle-Hellman\n"
     ]
    },
    {
     "data": {
      "text/plain": [
       "True"
      ]
     },
     "execution_count": 11,
     "metadata": {},
     "output_type": "execute_result"
    }
   ],
   "source": [
    "x = descifra_txt(y, BS, U, V)\n",
    "print(\"Mensaje descifrado: \", x)\n",
    "mensaje == x  # El texto descifrado coincide con el cifrado."
   ]
  }
 ],
 "metadata": {
  "kernelspec": {
   "display_name": "SageMath 9.2",
   "language": "sage",
   "name": "sagemath"
  },
  "language_info": {
   "codemirror_mode": {
    "name": "ipython",
    "version": 3
   },
   "file_extension": ".py",
   "mimetype": "text/x-python",
   "name": "python",
   "nbconvert_exporter": "python",
   "pygments_lexer": "ipython3",
   "version": "3.8.5"
  }
 },
 "nbformat": 4,
 "nbformat_minor": 4
}
