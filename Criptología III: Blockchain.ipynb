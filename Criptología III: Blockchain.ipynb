{
 "cells": [
  {
   "cell_type": "markdown",
   "metadata": {},
   "source": [
    "<center>Ángel Ríos San Nicolás</center>\n",
    "\n",
    "# III _Blockchain_"
   ]
  },
  {
   "cell_type": "markdown",
   "metadata": {},
   "source": [
    "## Afianzamiento de los bloques en la cadena\n",
    "$\\rightarrow$ ¿Cuántos bitcoins se generan en las coinbase transactions de los bloques que se están incorporando\n",
    "hoy a la cadena?\n",
    "\n",
    "Calculamos la cantidad de _coinbase transactions_ que se generan en los bloques que se están incorporando hoy a la cadena.\n",
    "\n",
    "El bloque actual es el bloque: $667866$.\n",
    "Sabemos que empezamos con $50 \\text{ BTC}$ y que cada $210 000$ bloques se reduce a la mitad. Como \n",
    "$$3\\cdot 210000 = 630000 < 667866 < 840000 = 4\\cdot 210000,$$\n",
    "el número de bitcoins que se generan en las _coinbase transaction_ de hoy es\n",
    "$$\\frac{50}{2^3}=6.25 \\text{ BTC}.$$\n",
    "\n",
    "$\\rightarrow$ ¿Qué altura tendrá el último bloque que premie al minero con este incentivo? ¿A cuánto ascenderá\n",
    "entonces el monto total de bitcoins en el sistema?\n",
    "\n",
    "El último bloque que premie al minero con $6.25\\text{ BTC}$ es el bloque de altura $4\\cdot 210000 - 1 = 839999$. El monto total de bitcoins en el sistema será la suma de todos los bitcoins generados en los $839999$ bloques previos. Cada cantidad de BTC está asociada a $210000$ bloques y como la cantidad se ha reducido tres veces, el total ascenderá en ese momento a\n",
    "$$210000\\text{ bloque}\\cdot (50+25+12.5+6.25)\\frac{\\text{BTC}}{\\text{bloque}}=210000\\text{ bloque}\\cdot 93.75\\frac{\\text{BTC}}{\\text{bloque}}=19687500\\text{ BTC}.$$\n",
    "\n",
    "$\\rightarrow$ Suponiendo un ritmo constante de adición de bloques de uno cada diez minutos, ¿cuándo se prevé\n",
    "alcanzar ese máximo nivel de circulante?\n",
    "\n",
    "Si suponemos que se añade un bloque cada $10$ minutos, podemos calcular el tiempo que queda hasta alcanzar el bloque $839999$. Quedan $839999-667866=172133$ bloques y, por lo tanto, $$172133\\text{ bloque}\\cdot 10\\frac{\\min}{\\text{bloque}} = 1721330\\text{ min}= \\frac{1721330 \\min}{60\\frac{\\min}{\\text{h}}24\\frac{\\text{h}}{\\text{día}}365\\frac{\\text{día}}{\\text{año}}}=3.2839781746031744 \\text{ año},$$\n",
    "es decir, tres años y $0.2839781746031744\\cdot 365\\simeq 103$ días."
   ]
  },
  {
   "cell_type": "markdown",
   "metadata": {},
   "source": [
    "## Dificultad"
   ]
  },
  {
   "cell_type": "markdown",
   "metadata": {},
   "source": [
    "$\\rightarrow$ ¿Cuántas variantes del bloque cabe esperar que haya que probar hasta dar con una cabecera cuyo hash no\n",
    "exceda esta cota?\n",
    "\n",
    "Calculamos el número de variantes del bloque que tenemos que calcular de media hasta dar con un hash que no exceda la cota representada por los bytes 92 2D 27 17 que es $2^{23\\cdot 8}$. Es el cociente del cardinal del conjunto total entre el del subconjunto en el que se quiere atinar, en este caso,\n",
    "$$\\frac{2^{256}}{2^{23\\cdot 8}}=2^{256-23\\cdot 8}=2^{72}.$$\n",
    "\n",
    "$\\rightarrow$ En aquellos días de 2009, ¿cuántos intentos habría que haber hecho para anotarse 50 BTC?\n",
    "\n",
    "De la misma manera la cota marcada por los bytes FF FF 00 1D representa la cota $2^{29\\cdot 8}$ y el número de variantes de bloque que se debía calular en media era\n",
    "$$\\frac{2^{256}}{2^{29\\cdot 8}}=2^{256-29\\cdot 8}=2^{24}.$$"
   ]
  },
  {
   "cell_type": "markdown",
   "metadata": {},
   "source": [
    "$\\rightarrow$ Extrae tres bloques de la cadena, con alturas $h_0$, $h_1$ y $h_2$ , bien separadas entre sí, y calcula el tiempo medio transcurrido entre bloques para el intervalo desde $h_0$ hasta $h_1$ , por una parte, y desde $h_1$ hasta $h_2$ , por otra:\n",
    "$$\\frac{t_1-t_0}{h_1-h_0}\\qquad\\text{y}\\qquad\\frac{t_2-t_1}{h_2-h_1}$$\n",
    "¿Se aprecia un cambio en el ritmo de la minería?\n",
    "\n",
    "Escogemos los bloques con alturas\n",
    "$$\\begin{array}{l}\n",
    "h_0 = 1997\\\\\n",
    "h_1 = 231019\\\\\n",
    "h_2 = 534991\n",
    "\\end{array} $$\n",
    "que tienen tiempos respectivos\n",
    "$$\\begin{array}{l}\n",
    "t_0 = \\text{2009-01-27 09:19:28}=1233047968\\\\\n",
    "t_1 = \\text{2013-04-12 20:35:46}=1365798946\\\\\n",
    "t_2 = \\text{2018-08-03 13:10:37}=1533301837\n",
    "\\end{array}\n",
    "$$\n",
    "expresados en tiempo Unix. Tenemos que\n",
    "$$\\begin{array}{l}\n",
    "\\frac{t_1-t_0}{h_1-h_0}=\\frac{1365798946-1233047968}{231019-1997}=579.642907668259\\\\\n",
    "\\frac{t_2-t_1}{h_2-h_1}=\\frac{1533301837-1365798946}{534991-231019}=551.047106312423\n",
    "\\end{array}\n",
    "$$\n",
    "y no se observan grandes diferencias en el tiempo de minado ya que $\\frac{579.642907668259}{551.047106312423}=1.0518935695846359$, la diferencia es de $\\sim 5\\%$."
   ]
  },
  {
   "cell_type": "code",
   "execution_count": 1,
   "metadata": {},
   "outputs": [
    {
     "name": "stdout",
     "output_type": "stream",
     "text": [
      "1233044368\n",
      "1365791746\n",
      "1533294637\n"
     ]
    }
   ],
   "source": [
    "# Cálculo del tiempo de los bloques en formato de tiempo Unix epoch.\n",
    "from datetime import datetime\n",
    "print(int(datetime(2009,1,27,9,19,28).timestamp()))\n",
    "print(int(datetime(2013,4,12,20,35,46).timestamp()))\n",
    "print(int(datetime(2018,8,3,13,10,37).timestamp()))"
   ]
  },
  {
   "cell_type": "markdown",
   "metadata": {},
   "source": [
    "## Coinbase transactions\n",
    "\n",
    "$\\rightarrow$ ¿De cuántas maneras distintas se puede rellenar el campo $\\fbox{nNonce}$?\n",
    "\n",
    "El campo $\\fbox{nNonce}$ tiene $4$ bytes, en total, $4\\cdot 8=32$ bits que pueden ser $0$ o $1$ por lo que el número de maneras de rellenarlo es $2^{32}$."
   ]
  },
  {
   "cell_type": "markdown",
   "metadata": {},
   "source": [
    "## A la mina\n",
    "$\\rightarrow$ Suponiendo que la cadena más larga publicada termina en el bloque #4, construye un bloque sucesor (que\n",
    "tendría altura 5).\n",
    "\n",
    "Comprobamos primero que sabemos calcular de forma correcta el hash $(\\text{SHA256})^2$ de las cabeceras de los bloques calculando el de la del bloque 3 y comprobando con el hashPrevBlock publicado en el bloque 4 de la cadena de bloques."
   ]
  },
  {
   "cell_type": "code",
   "execution_count": 2,
   "metadata": {},
   "outputs": [
    {
     "name": "stdout",
     "output_type": "stream",
     "text": [
      "True\n"
     ]
    }
   ],
   "source": [
    "from hashlib import sha256  # Función hash SHA256.\n",
    "from datetime import datetime  # Función datetime que permite calcular el tiempo en formato Unix epoch.\n",
    "from random import randint\n",
    "from timeit import default_timer\n",
    "\n",
    "# Como mera comprobación, veamos que el hash de la cabecera del bloque 3 es el hashPrevBlock que aparece en el bloque 4.\n",
    "cabeceraBlock3 = \"01000000bddd99ccfda39da1b108ce1a5d70038d\"+\\\n",
    "\"0a967bacb68b6b63065f626a0000000044f67222\"+\\\n",
    "\"6090d85db9a9f2fbfe5f0f9609b387af7be5b7fb\"+\\\n",
    "\"b7a1767c831c9e995dbe6649ffff001d05e0ed6d\"\n",
    "hashPrevBlock4 = \"4944469562ae1c2c74d9a535e00b6f3e40ffbad4f2fda3895501b58200000000\"  # (SHA256)^2 de la cabecera del bloque 3. \n",
    "hashPB4 = sha256(sha256(bytes.fromhex(cabeceraBlock3)).digest()).digest().hex()\n",
    "print(hashPB4==hashPrevBlock4)  # True. Por lo tanto, son iguales.\n",
    "\n",
    "# Con esto vemos que es la manera correcta de calcular el hash."
   ]
  },
  {
   "cell_type": "markdown",
   "metadata": {},
   "source": [
    "Vamos a construir el bloque 5. Sabemos que empieza en 01 00 00 00 a lo que le sigue el hashPrevBlock5 que es el hash $(\\text{SHA256})^2$ de la cabecera del bloque 4 que lo podemos hallar manualmente con el procedimiento anterior."
   ]
  },
  {
   "cell_type": "code",
   "execution_count": 3,
   "metadata": {},
   "outputs": [
    {
     "name": "stdout",
     "output_type": "stream",
     "text": [
      "85144a84488ea88d221c8bd6c059da090e88f8a2c99690ee55dbba4e00000000\n"
     ]
    }
   ],
   "source": [
    "cabeceraBlock4 = \"010000004944469562ae1c2c74d9a535e00b6f3e\"+\\\n",
    "\"40ffbad4f2fda3895501b582000000007a06ea98\"+\\\n",
    "\"cd40ba2e3288262b28638cec5337c1456aaf5eed\"+\\\n",
    "\"c8e9e5a20f062bdf8cc16649ffff001d2bfee0a9\"\n",
    "hashPrevBlock5 = sha256(sha256(bytes.fromhex(cabeceraBlock4)).digest()).digest().hex()\n",
    "print(hashPrevBlock5)"
   ]
  },
  {
   "cell_type": "markdown",
   "metadata": {},
   "source": [
    "Efectivamente coincide con el hashPrevBlock del verdadero bloque 5 publicado en la cadena de bloques. A este número le sigue el hashMerkleRoot que es el hash de la parte de las transacciones que contiene parámetros variables que cambian completamente el hash. Podemos tomar el que aparece publicado en el verdadero bloque 5."
   ]
  },
  {
   "cell_type": "code",
   "execution_count": 4,
   "metadata": {},
   "outputs": [],
   "source": [
    "hashMerkleRoot5 = \"e11c48fecdd9e72510ca84f023370c9a38bf91ac5cae88019bee94d245285263\""
   ]
  },
  {
   "cell_type": "markdown",
   "metadata": {},
   "source": [
    "Seguidamente viene el tiempo que podemos escogerlo que rondará los 10 minutos tras el bloque anterior, pero que podemos escoger, por ejemplo, la misma que la del bloque 5. "
   ]
  },
  {
   "cell_type": "code",
   "execution_count": 5,
   "metadata": {},
   "outputs": [
    {
     "data": {
      "text/plain": [
       "'0x4966c344'"
      ]
     },
     "execution_count": 5,
     "metadata": {},
     "output_type": "execute_result"
    }
   ],
   "source": [
    "hex(int(datetime(2009,1,9,4,23,48).timestamp()))"
   ]
  },
  {
   "cell_type": "markdown",
   "metadata": {},
   "source": [
    "Recordamos que el tiempo se escribe en formato little-endian con lo que en el bloque aparecerá como 44 3c 66 49 (Advertimos que el bloque 5 se publicó a las cuatro de la madrugada del 9 de enero y no a las 3 como aparece en la figura de las cabeceras de los primeros bloques.)"
   ]
  },
  {
   "cell_type": "markdown",
   "metadata": {},
   "source": [
    "A esto le sigue la complejidad en bits que en los primeros bloques era FF FF 00 1D."
   ]
  },
  {
   "cell_type": "code",
   "execution_count": 6,
   "metadata": {},
   "outputs": [],
   "source": [
    "nBits=\"ffff001D\""
   ]
  },
  {
   "cell_type": "markdown",
   "metadata": {},
   "source": [
    "El siguiente campo es el $\\fbox{nNonce}$. Tenemos que encontrar un $\\fbox{nNonce}$ de manera que el hash de la cabecera satisfaga la cota dada por _nBits_, es decir, que tenga $8$ ceros finales. Programamos un bucle while que vaya modificando $\\fbox{nNonce}$ hasta encontrar un hash que lo cumpla."
   ]
  },
  {
   "cell_type": "code",
   "execution_count": null,
   "metadata": {},
   "outputs": [],
   "source": [
    "cabeceraBlock5 = \"01000000\" + hashPrevBlock5 + hashMerkleRoot5 + \"4966c344\" + nBits\n",
    "hashCabecera5 = \"\"\n",
    "tiempo0 = default_timer()\n",
    "while hashCabecera5[-6:] != \"000000\":\n",
    "    nNonce = str(hex(randint(0,2^32-1)))[2:]\n",
    "    nNonce = \"0\" * (6 - len(nNonce)) + nNonce\n",
    "    hashCabecera5 = str(sha256(sha256(bytes.fromhex(cabeceraBlock5+nNonce)).digest()).digest().hex())\n",
    "print(default_timer - tiempo0)\n",
    "print(hashCabecera5)\n",
    "print(nNonce)"
   ]
  },
  {
   "cell_type": "markdown",
   "metadata": {},
   "source": [
    "Si con la capacidad de cálculo no basta con el $\\fbox{nNonce}$, podría cambiar también el _hashMerkleRoot_ porque se pueden modificar las transacciones, en particular la de la _coinbase transaction_ y el también el tiempo del bloque ya que se publica una vez calculado."
   ]
  },
  {
   "cell_type": "markdown",
   "metadata": {},
   "source": [
    "$\\rightarrow$ La minería de bloques consiste en ajustar algunos bytes para construir un bloque cuyo hash tenga la forma\n",
    "requerida. De manera análoga, un impostor podría intentar cambiar la coinbase transaction de un bloque\n",
    "«enterrado» en la cadena, colocando como **output** una dirección controlada por él. El contenido arbitrario\n",
    "del campo _scriptSig_ puede modificarse tanto como sea necesario para que el hash hashMerkleRoot\n",
    "coincida con el del bloque original. ¿Qué impide esta trampa?\n",
    "\n",
    "Esta trampa es impedida por el hash de la cabecera que garantiza la integridad de la lista de transacciones. Si se modificara el campo _scriptSig_ de un bloque enterrado, cambiaría el hash de la cabecera lo que obligaría a cambiar todos los bloques posteriores y ya sabemos que esto requiere la capacidad computacional de todos lo usuarios."
   ]
  }
 ],
 "metadata": {
  "kernelspec": {
   "display_name": "SageMath 9.2",
   "language": "sage",
   "name": "sagemath"
  },
  "language_info": {
   "codemirror_mode": {
    "name": "ipython",
    "version": 3
   },
   "file_extension": ".py",
   "mimetype": "text/x-python",
   "name": "python",
   "nbconvert_exporter": "python",
   "pygments_lexer": "ipython3",
   "version": "3.8.5"
  }
 },
 "nbformat": 4,
 "nbformat_minor": 4
}
