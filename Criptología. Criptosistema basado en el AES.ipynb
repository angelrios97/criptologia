{
 "cells": [
  {
   "cell_type": "markdown",
   "metadata": {},
   "source": [
    "# Criptología\n",
    "## Criptosistema basado en el AES para cifrar y descifrar bloques de 32 bits.\n",
    "### Ángel Ríos San Nicolás"
   ]
  },
  {
   "cell_type": "markdown",
   "metadata": {},
   "source": [
    "Consideramos el cuerpo $\\mathbb{F}_{2^8}\\cong \\mathbb{F}_2[x]/(x^8+x^4+x^3+x+1)$."
   ]
  },
  {
   "cell_type": "code",
   "execution_count": 1,
   "metadata": {},
   "outputs": [
    {
     "name": "stderr",
     "output_type": "stream",
     "text": [
      "/opt/SageMath/local/lib/python3.8/site-packages/mpmath/ctx_mp_python.py:892: SyntaxWarning: \"is\" with a literal. Did you mean \"==\"?\n",
      "  if other is 0:\n",
      "/opt/SageMath/local/lib/python3.8/site-packages/mpmath/ctx_mp_python.py:986: SyntaxWarning: \"is\" with a literal. Did you mean \"==\"?\n",
      "  if other is 0:\n"
     ]
    }
   ],
   "source": [
    "F.<a> = GF(2 ** 8, modulus = x**8 + x**4 + x**3 + x + 1)"
   ]
  },
  {
   "cell_type": "markdown",
   "metadata": {},
   "source": [
    "Construimos el método de cifrado para un mensaje $X = x_1x_2x_3x_4$ y clave $K = k_1k_2k_3k_4$ con $x_i,k_i\\in \\mathbb{F}_{2^8}$, $i\\in\\{1,2,3,4\\}$, es decir $|x|=32=|k|$. Si en un paso intermedio tenemos $z_1z_2z_3z_4$ con $z_i\\in\\mathbb{F}_{2^8}$, $i\\in\\{1,2,3,4\\}$, aplicamos sucesivas operaciones XOR con la clave $K$,\n",
    "$$z_i\\longmapsto z_i\\oplus k_i$$ sustituciones del tipo\n",
    "$$z_i\\longmapsto \\left\\{\\begin{array}{ll}z^{-1} & \\text{si }z\\neq 0\\\\0 & \\text{si }z=0\\end{array}\\right.$$\n",
    "y mezclas de la forma\n",
    "$$z_i\\longmapsto \\sum_{i\\neq j}z_j.$$\n",
    "Hay que tener cuidado y no aplicar las mismas operaciones en orden inverso en la aplicación ya que por la estructura de $\\mathbb{F}_{2^8}$ son inversas de sí mismas y estaríamos haciendo cálculos improductivos en esa parte del algoritmo."
   ]
  },
  {
   "cell_type": "code",
   "execution_count": 2,
   "metadata": {},
   "outputs": [],
   "source": [
    "def toy_aes(X,K):\n",
    "    Y = X[0:]\n",
    "    for i in range(4):\n",
    "        Y[i] += K[i]  # XOR\n",
    "        if  Y[i] != 0:  \n",
    "            Y[i] = 1/Y[i]  # Sustitución\n",
    "    Y1=Y[0:]\n",
    "    Y = [sum([Y1[j] for j in range(4) if i!=j]) for i in range(4)]  # Mezcla\n",
    "    for i in range(4):\n",
    "        Y[i] += K[i]  # XOR\n",
    "        if Y[i]!=0:\n",
    "            Y[i] = 1/Y[i]  # Sustitución\n",
    "        Y[i] += K[i]  # XOR\n",
    "        if Y[i]!=0:\n",
    "            Y[i] = 1/Y[i]  # Sustitución\n",
    "        Y[i] += K[i]  # XOR\n",
    "    Y1=Y[0:]\n",
    "    Y = [sum([Y1[j] for j in range(4) if i!=j]) for i in range(4)]  # Mezcla\n",
    "    for i in range(4):\n",
    "        Y[i] += K[i]  # XOR\n",
    "        if Y[i]!=0:\n",
    "            Y[i] = 1/Y[i]  # Sustitución\n",
    "        Y[i] += K[i]  # XOR\n",
    "    Y1=Y[0:]\n",
    "    Y = [sum([Y1[j] for j in range(4) if i!=j]) for i in range(4)]  # Mezcla\n",
    "    for i in range(4):\n",
    "        if Y[i]!=0:\n",
    "            Y[i] = 1/Y[i]  # Sustitución\n",
    "    Y1=Y[0:]\n",
    "    Y = [sum([Y1[j] for j in range(4) if i!=j]) for i in range(4)]  # Mezcla\n",
    "    for i in range(4):\n",
    "        Y[i] += K[i]  # XOR\n",
    "        if Y[i]!=0:\n",
    "            Y[i] = 1/Y[i]  # Sustitución\n",
    "        Y[i] += K[i]  # XOR\n",
    "    Y1=Y[0:]\n",
    "    Y = [sum([Y1[j] for j in range(4) if i!=j]) for i in range(4)]  # Mezcla\n",
    "    for i in range(4):\n",
    "        Y[i] += K[i]  # XOR\n",
    "        if Y[i]!=0:\n",
    "            Y[i] = 1/Y[i]  # Sustución\n",
    "        Y[i] += K[i]  # XOR\n",
    "    return Y"
   ]
  },
  {
   "cell_type": "markdown",
   "metadata": {},
   "source": [
    "El método de descifrado consiste en aplicar en el orden contrario las transformaciones sucesivas que aplicamos al cifrar ya que son inversas de sí mismas."
   ]
  },
  {
   "cell_type": "code",
   "execution_count": 3,
   "metadata": {},
   "outputs": [],
   "source": [
    "def toy_aesd(X,K):\n",
    "    Y = X[0:]\n",
    "    for i in range(4):\n",
    "        Y[i] += K[i]  # XOR\n",
    "        if Y[i]!= 0:\n",
    "            Y[i] = 1/Y[i]  # Sustitución\n",
    "        Y[i] += K[i]  # XOR\n",
    "    Y1=Y[0:]\n",
    "    Y = [sum([Y1[j] for j in range(4) if i!=j]) for i in range(4)]  # Mezcla\n",
    "    for i in range(4):\n",
    "        Y[i] += K[i]  # XOR\n",
    "        if Y[i]!=0:\n",
    "            Y[i] = 1/Y[i]  # Sustitución\n",
    "        Y[i] += K[i]  # XOR\n",
    "    Y1=Y[0:]\n",
    "    Y = [sum([Y1[j] for j in range(4) if i!=j]) for i in range(4)]  # Mezcla\n",
    "    for i in range(4):\n",
    "        if Y[i]!=0:\n",
    "            Y[i] = 1/Y[i]  # Sustitución\n",
    "    Y1=Y[0:]\n",
    "    Y = [sum([Y1[j] for j in range(4) if i!=j]) for i in range(4)]  # Mezcla\n",
    "    for i in range(4):\n",
    "        Y[i] += K[i]  # XOR\n",
    "        if Y[i]!=0:\n",
    "            Y[i] = 1/Y[i]  # Sustitución\n",
    "        Y[i] += K[i]  # XOR\n",
    "    Y1=Y[0:]\n",
    "    Y = [sum([Y1[j] for j in range(4) if i!=j]) for i in range(4)]  # Mezcla\n",
    "    for i in range(4):\n",
    "        Y[i] += K[i]  # XOR\n",
    "        if Y[i]!=0:\n",
    "            Y[i] = 1/Y[i]  # Sustitución\n",
    "        Y[i] += K[i]  # XOR\n",
    "        if Y[i]!=0:\n",
    "            Y[i] = 1/Y[i]  # Sustitución\n",
    "        Y[i] += K[i]  # XOR\n",
    "    Y1=Y[0:]\n",
    "    Y = [sum([Y1[j] for j in range(4) if i!=j]) for i in range(4)]  # Mezcla\n",
    "    for i in range(4):\n",
    "        if Y[i]!=0:\n",
    "            Y[i] = 1/Y[i]  # Sustitución\n",
    "        Y[i] += K[i]  # XOR\n",
    "    return Y"
   ]
  },
  {
   "cell_type": "markdown",
   "metadata": {},
   "source": [
    "Veamos que funciona el criptosistema de cifrado y descifrado probando con un mensaje y una clave generados de manera pseudoaleatoria."
   ]
  },
  {
   "cell_type": "code",
   "execution_count": 4,
   "metadata": {},
   "outputs": [],
   "source": [
    "K = [F.random_element() for i in range(4)]  # Clave de cifrado\n",
    "X = [F.random_element() for i in range(4)]  # Mensaje a cifrar"
   ]
  },
  {
   "cell_type": "code",
   "execution_count": 5,
   "metadata": {},
   "outputs": [
    {
     "data": {
      "text/plain": [
       "[a^7 + a^5 + a^4 + 1,\n",
       " a^6 + a^4 + a^2 + 1,\n",
       " a^6 + a^5 + a^3 + a + 1,\n",
       " a^6 + a^5 + a^4 + a^2 + a]"
      ]
     },
     "execution_count": 5,
     "metadata": {},
     "output_type": "execute_result"
    }
   ],
   "source": [
    "X"
   ]
  },
  {
   "cell_type": "code",
   "execution_count": 6,
   "metadata": {},
   "outputs": [
    {
     "data": {
      "text/plain": [
       "[a^4 + a + 1,\n",
       " a^7 + a^6 + a^5 + a^4 + a^2 + a,\n",
       " a^6 + a^5 + a^2,\n",
       " a^6 + a^5 + a^4 + a^2 + a + 1]"
      ]
     },
     "execution_count": 6,
     "metadata": {},
     "output_type": "execute_result"
    }
   ],
   "source": [
    "Y = toy_aes(X, K)\n",
    "Y  # Mensaje cifrado"
   ]
  },
  {
   "cell_type": "code",
   "execution_count": 7,
   "metadata": {},
   "outputs": [
    {
     "name": "stdout",
     "output_type": "stream",
     "text": [
      "[a^7 + a^5 + a^4 + 1, a^6 + a^4 + a^2 + 1, a^6 + a^5 + a^3 + a + 1, a^6 + a^5 + a^4 + a^2 + a]\n"
     ]
    },
    {
     "data": {
      "text/plain": [
       "True"
      ]
     },
     "execution_count": 7,
     "metadata": {},
     "output_type": "execute_result"
    }
   ],
   "source": [
    "DY = toy_aesd(Y, K)\n",
    "print(DY)  # Mensaje descifrado\n",
    "X == DY "
   ]
  },
  {
   "cell_type": "markdown",
   "metadata": {},
   "source": [
    "Descifrando $Y$ obtenemos $X$, el mensaje original."
   ]
  }
 ],
 "metadata": {
  "celltoolbar": "Edit Metadata",
  "kernelspec": {
   "display_name": "SageMath 9.2",
   "language": "sage",
   "name": "sagemath"
  },
  "language_info": {
   "codemirror_mode": {
    "name": "ipython",
    "version": 3
   },
   "file_extension": ".py",
   "mimetype": "text/x-python",
   "name": "python",
   "nbconvert_exporter": "python",
   "pygments_lexer": "ipython3",
   "version": "3.8.5"
  }
 },
 "nbformat": 4,
 "nbformat_minor": 4
}
