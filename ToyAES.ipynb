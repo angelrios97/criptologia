{
 "cells": [
  {
   "cell_type": "code",
   "execution_count": 14,
   "metadata": {},
   "outputs": [],
   "source": [
    "F.<a>= GF(2**8, modulus = x**8+x**4+x**3+x+1) \n",
    "m = F.modulus()\n",
    "\n",
    "def toy_aes(X,K):\n",
    "    Y = X[0:]\n",
    "    for i in range(4):\n",
    "        Y[i] += K[i]\n",
    "        if  Y[i] != 0:\n",
    "            Y[i] = 1/Y[i]        \n",
    "    Y1=Y[0:]        \n",
    "    Y = [sum([Y1[j] for j in range(4) if i!=j]) for i in range(4)]\n",
    "    for i in range(4):\n",
    "        Y[i] += K[i]\n",
    "        if Y[i]!=0:\n",
    "            Y[i] = 1/Y[i]\n",
    "        Y[i] += K[i]\n",
    "    return Y\n",
    "    \n",
    "\n",
    "def toy_aesd(X,K):\n",
    "    Y = X[0:]\n",
    "    for i in range(4):\n",
    "        Y[i] += K[i]\n",
    "        if Y[i]!= 0:\n",
    "            Y[i] = 1/Y[i]\n",
    "        Y[i] += K[i] \n",
    "    Y1=Y[0:]        \n",
    "    Y = [sum([Y1[j] for j in range(4) if i!=j]) for i in range(4)]\n",
    "    for i in range(4):\n",
    "        if Y[i]!=0:\n",
    "            Y[i] = 1/Y[i]\n",
    "        Y[i] += K[i]\n",
    "    return Y"
   ]
  },
  {
   "cell_type": "code",
   "execution_count": 15,
   "metadata": {},
   "outputs": [],
   "source": [
    "X = [F.random_element() for i in range(4)]\n",
    "K = [F.random_element() for i in range(4)]"
   ]
  },
  {
   "cell_type": "code",
   "execution_count": 16,
   "metadata": {},
   "outputs": [
    {
     "data": {
      "text/plain": [
       "[a^6 + a^4 + a^2 + a + 1,\n",
       " a^7 + a^5 + a^3 + a^2 + a,\n",
       " a^7 + a^6 + a^5 + a^4 + a^2 + a + 1,\n",
       " a^6 + a^3 + a^2 + 1]"
      ]
     },
     "execution_count": 16,
     "metadata": {},
     "output_type": "execute_result"
    }
   ],
   "source": [
    "X"
   ]
  },
  {
   "cell_type": "code",
   "execution_count": 17,
   "metadata": {},
   "outputs": [
    {
     "data": {
      "text/plain": [
       "[a^6 + a^4 + a^2, a^4 + a^3 + 1, a^4 + a^3 + a^2, a^5 + a^3]"
      ]
     },
     "execution_count": 17,
     "metadata": {},
     "output_type": "execute_result"
    }
   ],
   "source": [
    "K"
   ]
  },
  {
   "cell_type": "code",
   "execution_count": 18,
   "metadata": {},
   "outputs": [
    {
     "data": {
      "text/plain": [
       "[a^6 + a, a^3 + a + 1, a^7 + a^5 + a^2 + a + 1, a^6 + a^5 + a^4 + a^3 + a^2]"
      ]
     },
     "execution_count": 18,
     "metadata": {},
     "output_type": "execute_result"
    }
   ],
   "source": [
    "Y1= toy_aes(X,K)\n",
    "Y1"
   ]
  },
  {
   "cell_type": "code",
   "execution_count": 19,
   "metadata": {},
   "outputs": [
    {
     "data": {
      "text/plain": [
       "[a^6 + a^4 + a^2 + a + 1,\n",
       " a^7 + a^5 + a^3 + a^2 + a,\n",
       " a^7 + a^6 + a^5 + a^4 + a^2 + a + 1,\n",
       " a^6 + a^3 + a^2 + 1]"
      ]
     },
     "execution_count": 19,
     "metadata": {},
     "output_type": "execute_result"
    }
   ],
   "source": [
    "Y2=toy_aesd(Y1,K)\n",
    "Y2"
   ]
  },
  {
   "cell_type": "code",
   "execution_count": 13,
   "metadata": {},
   "outputs": [],
   "source": [
    "BC.<a1,a2,a3,a4,b1,b2,b3,b4,c1,c2,c3,c4,d1,d2,d3,d4,e1,e2,e3,e4,k1,k2,k3,k4> =PolynomialRing(F,24,order=\"lex\")"
   ]
  },
  {
   "cell_type": "code",
   "execution_count": 8,
   "metadata": {},
   "outputs": [],
   "source": [
    "G=[a1+a**6+a+1+k1, a2+a**6+a**4+a**2+k2, a3+a**7+a**6+a**5+a**4+a**3+a**2+1+k3, a4+a**5+a+1+k4, a**7+a**3+a**2+a+e1+k1,a**7+a**5+a**2+a+e2+k2,a**4+a**2+e3+k3,a**5+a**4+a**2+e4+k4,a1*b1-1, a2*b2-1,a3*b3-1,a4*b4-1,d1*e1-1,d2*e2-1,d3*e3-1,d4*e4-1,d1+c1+k1,d4+c4+k4,d3+c3+k3,d2+c2+k2,c1+b2+b3+b4,c2+b1+b3+b4,c3+b1+b2+b4,c4+b1+b2+b3]"
   ]
  },
  {
   "cell_type": "code",
   "execution_count": 9,
   "metadata": {},
   "outputs": [
    {
     "data": {
      "text/plain": [
       "[a1 + k1 + (a^6 + a + 1),\n",
       " a2 + k2 + (a^6 + a^4 + a^2),\n",
       " a3 + k3 + (a^7 + a^6 + a^5 + a^4 + a^3 + a^2 + 1),\n",
       " a4 + k4 + (a^5 + a + 1),\n",
       " e1 + k1 + (a^7 + a^3 + a^2 + a),\n",
       " e2 + k2 + (a^7 + a^5 + a^2 + a),\n",
       " e3 + k3 + (a^4 + a^2),\n",
       " e4 + k4 + (a^5 + a^4 + a^2),\n",
       " a1*b1 + 1,\n",
       " a2*b2 + 1,\n",
       " a3*b3 + 1,\n",
       " a4*b4 + 1,\n",
       " d1*e1 + 1,\n",
       " d2*e2 + 1,\n",
       " d3*e3 + 1,\n",
       " d4*e4 + 1,\n",
       " c1 + d1 + k1,\n",
       " c4 + d4 + k4,\n",
       " c3 + d3 + k3,\n",
       " c2 + d2 + k2,\n",
       " b2 + b3 + b4 + c1,\n",
       " b1 + b3 + b4 + c2,\n",
       " b1 + b2 + b4 + c3,\n",
       " b1 + b2 + b3 + c4]"
      ]
     },
     "execution_count": 9,
     "metadata": {},
     "output_type": "execute_result"
    }
   ],
   "source": [
    "G"
   ]
  },
  {
   "cell_type": "code",
   "execution_count": 10,
   "metadata": {},
   "outputs": [
    {
     "data": {
      "text/plain": [
       "a1 + k1 + (a^6 + a + 1)"
      ]
     },
     "execution_count": 10,
     "metadata": {},
     "output_type": "execute_result"
    }
   ],
   "source": [
    "G[0]"
   ]
  },
  {
   "cell_type": "code",
   "execution_count": 11,
   "metadata": {},
   "outputs": [
    {
     "data": {
      "text/plain": [
       "Ideal (a1 + k1 + (a^6 + a + 1), a2 + k2 + (a^6 + a^4 + a^2), a3 + k3 + (a^7 + a^6 + a^5 + a^4 + a^3 + a^2 + 1), a4 + k4 + (a^5 + a + 1), e1 + k1 + (a^7 + a^3 + a^2 + a), e2 + k2 + (a^7 + a^5 + a^2 + a), e3 + k3 + (a^4 + a^2), e4 + k4 + (a^5 + a^4 + a^2), a1*b1 + 1, a2*b2 + 1, a3*b3 + 1, a4*b4 + 1, d1*e1 + 1, d2*e2 + 1, d3*e3 + 1, d4*e4 + 1, c1 + d1 + k1, c4 + d4 + k4, c3 + d3 + k3, c2 + d2 + k2, b2 + b3 + b4 + c1, b1 + b3 + b4 + c2, b1 + b2 + b4 + c3, b1 + b2 + b3 + c4) of Multivariate Polynomial Ring in a1, a2, a3, a4, b1, b2, b3, b4, c1, c2, c3, c4, d1, d2, d3, d4, e1, e2, e3, e4, k1, k2, k3, k4 over Finite Field in a of size 2^8"
      ]
     },
     "execution_count": 11,
     "metadata": {},
     "output_type": "execute_result"
    }
   ],
   "source": [
    "I = Ideal(G)\n",
    "I"
   ]
  },
  {
   "cell_type": "code",
   "execution_count": 12,
   "metadata": {},
   "outputs": [],
   "source": [
    "G = I.groebner_basis()"
   ]
  },
  {
   "cell_type": "code",
   "execution_count": 13,
   "metadata": {},
   "outputs": [
    {
     "data": {
      "text/plain": [
       "Polynomial Sequence with 24 Polynomials in 24 Variables"
      ]
     },
     "execution_count": 13,
     "metadata": {},
     "output_type": "execute_result"
    }
   ],
   "source": [
    "G"
   ]
  },
  {
   "cell_type": "code",
   "execution_count": 14,
   "metadata": {},
   "outputs": [
    {
     "data": {
      "text/plain": [
       "24"
      ]
     },
     "execution_count": 14,
     "metadata": {},
     "output_type": "execute_result"
    }
   ],
   "source": [
    "len(G)"
   ]
  },
  {
   "cell_type": "code",
   "execution_count": 15,
   "metadata": {},
   "outputs": [],
   "source": [
    "K4 = G[23].factor()"
   ]
  },
  {
   "cell_type": "code",
   "execution_count": 16,
   "metadata": {},
   "outputs": [
    {
     "name": "stdout",
     "output_type": "stream",
     "text": [
      "(k4 + (a^7 + a^5 + a^3 + a^2), 1)\n",
      "(k4^6 + (a^7 + a^5 + a^2)*k4^5 + (a^7 + a^4 + a^3 + a)*k4^4 + (a^4 + a^3 + a^2 + a)*k4^3 + (a^5)*k4^2 + (a^7 + a^5 + a^4 + a^2)*k4 + (a^6 + a^2 + a), 1)\n",
      "(k4^16 + (a^6 + a^3)*k4^15 + (a^7 + a^5 + a^2 + a)*k4^14 + (a^6 + a)*k4^13 + (a^6 + a^5 + a^3 + a^2 + 1)*k4^12 + (a^6 + a^5 + a^2 + a + 1)*k4^11 + (a^5 + a^4 + 1)*k4^10 + (a^3 + a + 1)*k4^9 + (a^7 + a^3 + a^2 + a + 1)*k4^8 + (a^5 + a^4 + a^3 + a^2 + 1)*k4^7 + (a^7 + a^5 + a^3 + a^2 + 1)*k4^6 + (a^7 + a^6 + a^5 + a^3 + 1)*k4^5 + (a^3 + a^2 + a)*k4^4 + (a^7 + a^6 + a^5 + a^3)*k4^3 + (a^7 + a^5 + a^4 + a^3 + a + 1)*k4^2 + (a^6 + a^5 + a^3 + a^2 + a)*k4 + (a + 1), 1)\n",
      "(k4^18 + (a^7 + a^6 + a^5 + a^2 + a)*k4^17 + (a^6 + a^5 + a^4 + a + 1)*k4^16 + (a^3 + a^2 + 1)*k4^15 + (a^6 + a^5 + a^4 + a^2 + a)*k4^14 + (a^7 + a^6 + a^3 + 1)*k4^13 + (a^7 + a^6 + a^4 + a + 1)*k4^12 + (a^7 + a^6 + a^4 + a + 1)*k4^11 + (a^7 + a^6 + a^2)*k4^10 + (a^7 + a^6 + a^4 + a^3 + a^2)*k4^9 + (a^3 + a^2 + 1)*k4^8 + (a^6 + a^5 + 1)*k4^7 + (a^7 + a^3 + 1)*k4^6 + (a^7 + a^5 + 1)*k4^5 + (a^7 + a^6 + a^5 + a^4 + 1)*k4^4 + (a^7 + a^5 + a^3 + a)*k4^3 + (a^5 + a^2 + a)*k4^2 + (a^5 + a^4 + a^3 + 1)*k4 + (a^7 + a^5 + a^3 + a^2 + a + 1), 1)\n"
     ]
    }
   ],
   "source": [
    "for i in K4:\n",
    "    print(i)"
   ]
  },
  {
   "cell_type": "code",
   "execution_count": 17,
   "metadata": {},
   "outputs": [
    {
     "data": {
      "text/plain": [
       "k3 + (a^6 + a^4 + a^2 + a + 1)"
      ]
     },
     "execution_count": 17,
     "metadata": {},
     "output_type": "execute_result"
    }
   ],
   "source": [
    "G[22](k4 = a**7+a**5+a**3+a**2)"
   ]
  },
  {
   "cell_type": "code",
   "execution_count": 18,
   "metadata": {},
   "outputs": [
    {
     "data": {
      "text/plain": [
       "k2 + (a^5 + a^2)"
      ]
     },
     "execution_count": 18,
     "metadata": {},
     "output_type": "execute_result"
    }
   ],
   "source": [
    "G[21](k4 = a ** 7 + a ** 5 + a ** 3 + a ** 2)"
   ]
  },
  {
   "cell_type": "code",
   "execution_count": 19,
   "metadata": {},
   "outputs": [
    {
     "data": {
      "text/plain": [
       "k1 + (a^4 + a + 1)"
      ]
     },
     "execution_count": 19,
     "metadata": {},
     "output_type": "execute_result"
    }
   ],
   "source": [
    "G[20](k4 = a ** 7 + a ** 5 + a ** 3 + a ** 2)"
   ]
  },
  {
   "cell_type": "code",
   "execution_count": 20,
   "metadata": {},
   "outputs": [
    {
     "data": {
      "text/plain": [
       "e4 + k4 + (a^5 + a^4 + a^2)"
      ]
     },
     "execution_count": 20,
     "metadata": {},
     "output_type": "execute_result"
    }
   ],
   "source": [
    "G[19]"
   ]
  }
 ],
 "metadata": {
  "kernelspec": {
   "display_name": "SageMath 9.2",
   "language": "sage",
   "name": "sagemath"
  },
  "language_info": {
   "codemirror_mode": {
    "name": "ipython",
    "version": 3
   },
   "file_extension": ".py",
   "mimetype": "text/x-python",
   "name": "python",
   "nbconvert_exporter": "python",
   "pygments_lexer": "ipython3",
   "version": "3.8.5"
  }
 },
 "nbformat": 4,
 "nbformat_minor": 4
}
