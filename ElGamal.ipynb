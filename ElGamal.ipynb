{
 "cells": [
  {
   "cell_type": "code",
   "execution_count": 6,
   "metadata": {},
   "outputs": [],
   "source": [
    "F.<g>= GF(2**8, modulus = x**8+x**4+x**3+x+1) \n",
    "m = F.modulus()\n",
    "\n",
    "def toy_aes(X,K):\n",
    "    Y = X[0:]\n",
    "    for i in range(4):\n",
    "        Y[i] += K[i]\n",
    "        if  Y[i] != 0:\n",
    "            Y[i] = 1/Y[i]        \n",
    "    Y1=Y[0:]        \n",
    "    Y = [sum([Y1[j] for j in range(4) if i!=j]) for i in range(4)]\n",
    "    for i in range(4):\n",
    "        Y[i] += K[i]\n",
    "        if Y[i]!=0:\n",
    "            Y[i] = 1/Y[i]\n",
    "        Y[i] += K[i]    \n",
    "             \n",
    "    return Y\n",
    "    \n",
    "\n",
    "def toy_aesd(X,K):\n",
    "    Y = X[0:]\n",
    "    for i in range(4):\n",
    "        Y[i] += K[i]\n",
    "        if Y[i]!= 0:\n",
    "            Y[i] = 1/Y[i]\n",
    "        Y[i] += K[i] \n",
    "    Y1=Y[0:]        \n",
    "    Y = [sum([Y1[j] for j in range(4) if i!=j]) for i in range(4)]\n",
    "    for i in range(4):\n",
    "        if Y[i]!=0:\n",
    "            Y[i] = 1/Y[i]\n",
    "        Y[i] += K[i]\n",
    "    return Y"
   ]
  },
  {
   "cell_type": "code",
   "execution_count": 10,
   "metadata": {},
   "outputs": [],
   "source": [
    "a = F.primitive_element()"
   ]
  },
  {
   "cell_type": "code",
   "execution_count": 11,
   "metadata": {},
   "outputs": [
    {
     "data": {
      "text/plain": [
       "g^4 + g + 1"
      ]
     },
     "execution_count": 11,
     "metadata": {},
     "output_type": "execute_result"
    }
   ],
   "source": [
    "a"
   ]
  },
  {
   "cell_type": "code",
   "execution_count": 18,
   "metadata": {},
   "outputs": [],
   "source": [
    "C = set()"
   ]
  },
  {
   "cell_type": "code",
   "execution_count": 19,
   "metadata": {},
   "outputs": [],
   "source": [
    "for i in range(1,2 ** 8):\n",
    "    C.add(a ** i)"
   ]
  },
  {
   "cell_type": "code",
   "execution_count": 22,
   "metadata": {},
   "outputs": [
    {
     "data": {
      "text/plain": [
       "{1,\n",
       " g,\n",
       " g + 1,\n",
       " g^2,\n",
       " g^2 + 1,\n",
       " g^2 + g,\n",
       " g^2 + g + 1,\n",
       " g^3,\n",
       " g^3 + 1,\n",
       " g^3 + g,\n",
       " g^3 + g + 1,\n",
       " g^3 + g^2,\n",
       " g^3 + g^2 + 1,\n",
       " g^3 + g^2 + g,\n",
       " g^3 + g^2 + g + 1,\n",
       " g^4,\n",
       " g^4 + 1,\n",
       " g^4 + g,\n",
       " g^4 + g + 1,\n",
       " g^4 + g^2,\n",
       " g^4 + g^2 + 1,\n",
       " g^4 + g^2 + g,\n",
       " g^4 + g^2 + g + 1,\n",
       " g^4 + g^3,\n",
       " g^4 + g^3 + 1,\n",
       " g^4 + g^3 + g,\n",
       " g^4 + g^3 + g + 1,\n",
       " g^4 + g^3 + g^2,\n",
       " g^4 + g^3 + g^2 + 1,\n",
       " g^4 + g^3 + g^2 + g,\n",
       " g^4 + g^3 + g^2 + g + 1,\n",
       " g^5,\n",
       " g^5 + 1,\n",
       " g^5 + g,\n",
       " g^5 + g + 1,\n",
       " g^5 + g^2,\n",
       " g^5 + g^2 + 1,\n",
       " g^5 + g^2 + g,\n",
       " g^5 + g^2 + g + 1,\n",
       " g^5 + g^3,\n",
       " g^5 + g^3 + 1,\n",
       " g^5 + g^3 + g,\n",
       " g^5 + g^3 + g + 1,\n",
       " g^5 + g^3 + g^2,\n",
       " g^5 + g^3 + g^2 + 1,\n",
       " g^5 + g^3 + g^2 + g,\n",
       " g^5 + g^3 + g^2 + g + 1,\n",
       " g^5 + g^4,\n",
       " g^5 + g^4 + 1,\n",
       " g^5 + g^4 + g,\n",
       " g^5 + g^4 + g + 1,\n",
       " g^5 + g^4 + g^2,\n",
       " g^5 + g^4 + g^2 + 1,\n",
       " g^5 + g^4 + g^2 + g,\n",
       " g^5 + g^4 + g^2 + g + 1,\n",
       " g^5 + g^4 + g^3,\n",
       " g^5 + g^4 + g^3 + 1,\n",
       " g^5 + g^4 + g^3 + g,\n",
       " g^5 + g^4 + g^3 + g + 1,\n",
       " g^5 + g^4 + g^3 + g^2,\n",
       " g^5 + g^4 + g^3 + g^2 + 1,\n",
       " g^5 + g^4 + g^3 + g^2 + g,\n",
       " g^5 + g^4 + g^3 + g^2 + g + 1,\n",
       " g^6,\n",
       " g^6 + 1,\n",
       " g^6 + g,\n",
       " g^6 + g + 1,\n",
       " g^6 + g^2,\n",
       " g^6 + g^2 + 1,\n",
       " g^6 + g^2 + g,\n",
       " g^6 + g^2 + g + 1,\n",
       " g^6 + g^3,\n",
       " g^6 + g^3 + 1,\n",
       " g^6 + g^3 + g,\n",
       " g^6 + g^3 + g + 1,\n",
       " g^6 + g^3 + g^2,\n",
       " g^6 + g^3 + g^2 + 1,\n",
       " g^6 + g^3 + g^2 + g,\n",
       " g^6 + g^3 + g^2 + g + 1,\n",
       " g^6 + g^4,\n",
       " g^6 + g^4 + 1,\n",
       " g^6 + g^4 + g,\n",
       " g^6 + g^4 + g + 1,\n",
       " g^6 + g^4 + g^2,\n",
       " g^6 + g^4 + g^2 + 1,\n",
       " g^6 + g^4 + g^2 + g,\n",
       " g^6 + g^4 + g^2 + g + 1,\n",
       " g^6 + g^4 + g^3,\n",
       " g^6 + g^4 + g^3 + 1,\n",
       " g^6 + g^4 + g^3 + g,\n",
       " g^6 + g^4 + g^3 + g + 1,\n",
       " g^6 + g^4 + g^3 + g^2,\n",
       " g^6 + g^4 + g^3 + g^2 + 1,\n",
       " g^6 + g^4 + g^3 + g^2 + g,\n",
       " g^6 + g^4 + g^3 + g^2 + g + 1,\n",
       " g^6 + g^5,\n",
       " g^6 + g^5 + 1,\n",
       " g^6 + g^5 + g,\n",
       " g^6 + g^5 + g + 1,\n",
       " g^6 + g^5 + g^2,\n",
       " g^6 + g^5 + g^2 + 1,\n",
       " g^6 + g^5 + g^2 + g,\n",
       " g^6 + g^5 + g^2 + g + 1,\n",
       " g^6 + g^5 + g^3,\n",
       " g^6 + g^5 + g^3 + 1,\n",
       " g^6 + g^5 + g^3 + g,\n",
       " g^6 + g^5 + g^3 + g + 1,\n",
       " g^6 + g^5 + g^3 + g^2,\n",
       " g^6 + g^5 + g^3 + g^2 + 1,\n",
       " g^6 + g^5 + g^3 + g^2 + g,\n",
       " g^6 + g^5 + g^3 + g^2 + g + 1,\n",
       " g^6 + g^5 + g^4,\n",
       " g^6 + g^5 + g^4 + 1,\n",
       " g^6 + g^5 + g^4 + g,\n",
       " g^6 + g^5 + g^4 + g + 1,\n",
       " g^6 + g^5 + g^4 + g^2,\n",
       " g^6 + g^5 + g^4 + g^2 + 1,\n",
       " g^6 + g^5 + g^4 + g^2 + g,\n",
       " g^6 + g^5 + g^4 + g^2 + g + 1,\n",
       " g^6 + g^5 + g^4 + g^3,\n",
       " g^6 + g^5 + g^4 + g^3 + 1,\n",
       " g^6 + g^5 + g^4 + g^3 + g,\n",
       " g^6 + g^5 + g^4 + g^3 + g + 1,\n",
       " g^6 + g^5 + g^4 + g^3 + g^2,\n",
       " g^6 + g^5 + g^4 + g^3 + g^2 + 1,\n",
       " g^6 + g^5 + g^4 + g^3 + g^2 + g,\n",
       " g^6 + g^5 + g^4 + g^3 + g^2 + g + 1,\n",
       " g^7,\n",
       " g^7 + 1,\n",
       " g^7 + g,\n",
       " g^7 + g + 1,\n",
       " g^7 + g^2,\n",
       " g^7 + g^2 + 1,\n",
       " g^7 + g^2 + g,\n",
       " g^7 + g^2 + g + 1,\n",
       " g^7 + g^3,\n",
       " g^7 + g^3 + 1,\n",
       " g^7 + g^3 + g,\n",
       " g^7 + g^3 + g + 1,\n",
       " g^7 + g^3 + g^2,\n",
       " g^7 + g^3 + g^2 + 1,\n",
       " g^7 + g^3 + g^2 + g,\n",
       " g^7 + g^3 + g^2 + g + 1,\n",
       " g^7 + g^4,\n",
       " g^7 + g^4 + 1,\n",
       " g^7 + g^4 + g,\n",
       " g^7 + g^4 + g + 1,\n",
       " g^7 + g^4 + g^2,\n",
       " g^7 + g^4 + g^2 + 1,\n",
       " g^7 + g^4 + g^2 + g,\n",
       " g^7 + g^4 + g^2 + g + 1,\n",
       " g^7 + g^4 + g^3,\n",
       " g^7 + g^4 + g^3 + 1,\n",
       " g^7 + g^4 + g^3 + g,\n",
       " g^7 + g^4 + g^3 + g + 1,\n",
       " g^7 + g^4 + g^3 + g^2,\n",
       " g^7 + g^4 + g^3 + g^2 + 1,\n",
       " g^7 + g^4 + g^3 + g^2 + g,\n",
       " g^7 + g^4 + g^3 + g^2 + g + 1,\n",
       " g^7 + g^5,\n",
       " g^7 + g^5 + 1,\n",
       " g^7 + g^5 + g,\n",
       " g^7 + g^5 + g + 1,\n",
       " g^7 + g^5 + g^2,\n",
       " g^7 + g^5 + g^2 + 1,\n",
       " g^7 + g^5 + g^2 + g,\n",
       " g^7 + g^5 + g^2 + g + 1,\n",
       " g^7 + g^5 + g^3,\n",
       " g^7 + g^5 + g^3 + 1,\n",
       " g^7 + g^5 + g^3 + g,\n",
       " g^7 + g^5 + g^3 + g + 1,\n",
       " g^7 + g^5 + g^3 + g^2,\n",
       " g^7 + g^5 + g^3 + g^2 + 1,\n",
       " g^7 + g^5 + g^3 + g^2 + g,\n",
       " g^7 + g^5 + g^3 + g^2 + g + 1,\n",
       " g^7 + g^5 + g^4,\n",
       " g^7 + g^5 + g^4 + 1,\n",
       " g^7 + g^5 + g^4 + g,\n",
       " g^7 + g^5 + g^4 + g + 1,\n",
       " g^7 + g^5 + g^4 + g^2,\n",
       " g^7 + g^5 + g^4 + g^2 + 1,\n",
       " g^7 + g^5 + g^4 + g^2 + g,\n",
       " g^7 + g^5 + g^4 + g^2 + g + 1,\n",
       " g^7 + g^5 + g^4 + g^3,\n",
       " g^7 + g^5 + g^4 + g^3 + 1,\n",
       " g^7 + g^5 + g^4 + g^3 + g,\n",
       " g^7 + g^5 + g^4 + g^3 + g + 1,\n",
       " g^7 + g^5 + g^4 + g^3 + g^2,\n",
       " g^7 + g^5 + g^4 + g^3 + g^2 + 1,\n",
       " g^7 + g^5 + g^4 + g^3 + g^2 + g,\n",
       " g^7 + g^5 + g^4 + g^3 + g^2 + g + 1,\n",
       " g^7 + g^6,\n",
       " g^7 + g^6 + 1,\n",
       " g^7 + g^6 + g,\n",
       " g^7 + g^6 + g + 1,\n",
       " g^7 + g^6 + g^2,\n",
       " g^7 + g^6 + g^2 + 1,\n",
       " g^7 + g^6 + g^2 + g,\n",
       " g^7 + g^6 + g^2 + g + 1,\n",
       " g^7 + g^6 + g^3,\n",
       " g^7 + g^6 + g^3 + 1,\n",
       " g^7 + g^6 + g^3 + g,\n",
       " g^7 + g^6 + g^3 + g + 1,\n",
       " g^7 + g^6 + g^3 + g^2,\n",
       " g^7 + g^6 + g^3 + g^2 + 1,\n",
       " g^7 + g^6 + g^3 + g^2 + g,\n",
       " g^7 + g^6 + g^3 + g^2 + g + 1,\n",
       " g^7 + g^6 + g^4,\n",
       " g^7 + g^6 + g^4 + 1,\n",
       " g^7 + g^6 + g^4 + g,\n",
       " g^7 + g^6 + g^4 + g + 1,\n",
       " g^7 + g^6 + g^4 + g^2,\n",
       " g^7 + g^6 + g^4 + g^2 + 1,\n",
       " g^7 + g^6 + g^4 + g^2 + g,\n",
       " g^7 + g^6 + g^4 + g^2 + g + 1,\n",
       " g^7 + g^6 + g^4 + g^3,\n",
       " g^7 + g^6 + g^4 + g^3 + 1,\n",
       " g^7 + g^6 + g^4 + g^3 + g,\n",
       " g^7 + g^6 + g^4 + g^3 + g + 1,\n",
       " g^7 + g^6 + g^4 + g^3 + g^2,\n",
       " g^7 + g^6 + g^4 + g^3 + g^2 + 1,\n",
       " g^7 + g^6 + g^4 + g^3 + g^2 + g,\n",
       " g^7 + g^6 + g^4 + g^3 + g^2 + g + 1,\n",
       " g^7 + g^6 + g^5,\n",
       " g^7 + g^6 + g^5 + 1,\n",
       " g^7 + g^6 + g^5 + g,\n",
       " g^7 + g^6 + g^5 + g + 1,\n",
       " g^7 + g^6 + g^5 + g^2,\n",
       " g^7 + g^6 + g^5 + g^2 + 1,\n",
       " g^7 + g^6 + g^5 + g^2 + g,\n",
       " g^7 + g^6 + g^5 + g^2 + g + 1,\n",
       " g^7 + g^6 + g^5 + g^3,\n",
       " g^7 + g^6 + g^5 + g^3 + 1,\n",
       " g^7 + g^6 + g^5 + g^3 + g,\n",
       " g^7 + g^6 + g^5 + g^3 + g + 1,\n",
       " g^7 + g^6 + g^5 + g^3 + g^2,\n",
       " g^7 + g^6 + g^5 + g^3 + g^2 + 1,\n",
       " g^7 + g^6 + g^5 + g^3 + g^2 + g,\n",
       " g^7 + g^6 + g^5 + g^3 + g^2 + g + 1,\n",
       " g^7 + g^6 + g^5 + g^4,\n",
       " g^7 + g^6 + g^5 + g^4 + 1,\n",
       " g^7 + g^6 + g^5 + g^4 + g,\n",
       " g^7 + g^6 + g^5 + g^4 + g + 1,\n",
       " g^7 + g^6 + g^5 + g^4 + g^2,\n",
       " g^7 + g^6 + g^5 + g^4 + g^2 + 1,\n",
       " g^7 + g^6 + g^5 + g^4 + g^2 + g,\n",
       " g^7 + g^6 + g^5 + g^4 + g^2 + g + 1,\n",
       " g^7 + g^6 + g^5 + g^4 + g^3,\n",
       " g^7 + g^6 + g^5 + g^4 + g^3 + 1,\n",
       " g^7 + g^6 + g^5 + g^4 + g^3 + g,\n",
       " g^7 + g^6 + g^5 + g^4 + g^3 + g + 1,\n",
       " g^7 + g^6 + g^5 + g^4 + g^3 + g^2,\n",
       " g^7 + g^6 + g^5 + g^4 + g^3 + g^2 + 1,\n",
       " g^7 + g^6 + g^5 + g^4 + g^3 + g^2 + g,\n",
       " g^7 + g^6 + g^5 + g^4 + g^3 + g^2 + g + 1}"
      ]
     },
     "execution_count": 22,
     "metadata": {},
     "output_type": "execute_result"
    }
   ],
   "source": [
    "C"
   ]
  },
  {
   "cell_type": "code",
   "execution_count": 21,
   "metadata": {},
   "outputs": [
    {
     "data": {
      "text/plain": [
       "255"
      ]
     },
     "execution_count": 21,
     "metadata": {},
     "output_type": "execute_result"
    }
   ],
   "source": [
    "len(C)"
   ]
  },
  {
   "cell_type": "code",
   "execution_count": 91,
   "metadata": {},
   "outputs": [
    {
     "data": {
      "text/plain": [
       "(214837301177335827862476032668844205818342427546591399486947,\n",
       " 87340414086919535622058194450130942931414893703643388049226,\n",
       " 246695149868106438974438976540751052482836573633925985783551)"
      ]
     },
     "execution_count": 91,
     "metadata": {},
     "output_type": "execute_result"
    }
   ],
   "source": [
    "h = ZZ.random_element(2 ** 200)\n",
    "e = ZZ.random_element(2 ** 200)\n",
    "p = next_prime(ZZ.random_element(2 ** 201))\n",
    "h,e,p"
   ]
  },
  {
   "cell_type": "code",
   "execution_count": 99,
   "metadata": {},
   "outputs": [
    {
     "data": {
      "text/plain": [
       "125012571463554441190716319925191116565558549368476872294261"
      ]
     },
     "execution_count": 99,
     "metadata": {},
     "output_type": "execute_result"
    }
   ],
   "source": [
    "power_mod(h,e,p)"
   ]
  },
  {
   "cell_type": "code",
   "execution_count": 103,
   "metadata": {},
   "outputs": [
    {
     "data": {
      "text/plain": [
       "g^5 + g^3 + g^2 + g"
      ]
     },
     "execution_count": 103,
     "metadata": {},
     "output_type": "execute_result"
    }
   ],
   "source": [
    "c = a ** 201\n",
    "c"
   ]
  },
  {
   "cell_type": "code",
   "execution_count": 105,
   "metadata": {},
   "outputs": [
    {
     "data": {
      "text/plain": [
       "201"
      ]
     },
     "execution_count": 105,
     "metadata": {},
     "output_type": "execute_result"
    }
   ],
   "source": [
    "c.log(a)"
   ]
  },
  {
   "cell_type": "code",
   "execution_count": 106,
   "metadata": {},
   "outputs": [
    {
     "data": {
      "text/plain": [
       "201"
      ]
     },
     "execution_count": 106,
     "metadata": {},
     "output_type": "execute_result"
    }
   ],
   "source": [
    "log(c,a)"
   ]
  },
  {
   "cell_type": "code",
   "execution_count": 29,
   "metadata": {},
   "outputs": [],
   "source": [
    "p = next_prime(ZZ.random_element(2 ** 200))\n",
    "g = GF(p).primitive_element()\n",
    "x = ZZ.random_element(1, p-1)\n",
    "clave_publica = power_mod(g, x, p)"
   ]
  },
  {
   "cell_type": "code",
   "execution_count": 36,
   "metadata": {},
   "outputs": [],
   "source": [
    "m = ZZ.random_element(1,p-1)"
   ]
  },
  {
   "cell_type": "code",
   "execution_count": 31,
   "metadata": {},
   "outputs": [],
   "source": [
    "def elgamal_c(g, clave_publica, p, m):\n",
    "    y = ZZ.random_element(1, p-1)\n",
    "    r = power_mod(g, y, p)\n",
    "    s = m * power_mod(clave_publica, y, p) % p\n",
    "    return r,s"
   ]
  },
  {
   "cell_type": "code",
   "execution_count": 40,
   "metadata": {},
   "outputs": [
    {
     "data": {
      "text/plain": [
       "(13593744543879237780668394833259204773264385080506301424028,\n",
       " 19860989300492102289782553368975255278476698097222031377022)"
      ]
     },
     "execution_count": 40,
     "metadata": {},
     "output_type": "execute_result"
    }
   ],
   "source": [
    "c1 = elgamal_c(g, clave_publica, p, m)\n",
    "c1"
   ]
  },
  {
   "cell_type": "code",
   "execution_count": 42,
   "metadata": {},
   "outputs": [],
   "source": [
    "def elgamal_d(clave_publica, p, clave_privada, r, s):\n",
    "    return power_mod(r, -clave_privada+p-1, p) * s % p"
   ]
  },
  {
   "cell_type": "code",
   "execution_count": 43,
   "metadata": {},
   "outputs": [
    {
     "data": {
      "text/plain": [
       "429710019033845199308014303923372375215099673375003852331357"
      ]
     },
     "execution_count": 43,
     "metadata": {},
     "output_type": "execute_result"
    }
   ],
   "source": [
    "elgamal_d(g, p, x, c1[0], c1[1])"
   ]
  },
  {
   "cell_type": "code",
   "execution_count": 44,
   "metadata": {},
   "outputs": [
    {
     "data": {
      "text/plain": [
       "429710019033845199308014303923372375215099673375003852331357"
      ]
     },
     "execution_count": 44,
     "metadata": {},
     "output_type": "execute_result"
    }
   ],
   "source": [
    "m"
   ]
  }
 ],
 "metadata": {
  "kernelspec": {
   "display_name": "SageMath 9.2",
   "language": "sage",
   "name": "sagemath"
  },
  "language_info": {
   "codemirror_mode": {
    "name": "ipython",
    "version": 3
   },
   "file_extension": ".py",
   "mimetype": "text/x-python",
   "name": "python",
   "nbconvert_exporter": "python",
   "pygments_lexer": "ipython3",
   "version": "3.8.5"
  }
 },
 "nbformat": 4,
 "nbformat_minor": 4
}
